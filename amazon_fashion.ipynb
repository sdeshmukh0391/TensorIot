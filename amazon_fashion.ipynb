{
 "cells": [
  {
   "cell_type": "code",
   "execution_count": 1,
   "id": "2ec38280",
   "metadata": {},
   "outputs": [],
   "source": [
    "import numpy as np\n",
    "import pandas as pd\n",
    "from psycopg2 import OperationalError\n",
    "from pyspark.sql import SparkSession\n",
    "from pyspark.sql.functions import col, length, min, max\n",
    "import gzip\n",
    "import json\n",
    "import pymysql\n",
    "import psycopg2\n",
    "from psycopg2 import extras"
   ]
  },
  {
   "cell_type": "markdown",
   "id": "6bc9afee",
   "metadata": {},
   "source": [
    "#  Using Jupyter notebook create a program to read the million reviews and get the following."
   ]
  },
  {
   "cell_type": "code",
   "execution_count": 2,
   "id": "8f82395f",
   "metadata": {},
   "outputs": [],
   "source": [
    "\n",
    "def parse(path):\n",
    "    g = gzip.open(path, 'rb')\n",
    "    for l in g:\n",
    "        yield json.loads(l)\n",
    "\n",
    "def getDF(path):\n",
    "    i = 0\n",
    "    df = {}  # Corrected variable name from df1 to df\n",
    "    for d in parse(path):\n",
    "        df[i] = d\n",
    "        i += 1\n",
    "    return pd.DataFrame.from_dict(df, orient='index')\n",
    "\n",
    "path = \"../TensorIot/AMAZON_FASHION_5.json.gz\"  # Replace with the actual path to your JSON.gz file\n",
    "df= getDF(path)\n"
   ]
  },
  {
   "cell_type": "markdown",
   "id": "d81175d1",
   "metadata": {},
   "source": [
    "#  Transform: change the date MM-DD-YYYY format."
   ]
  },
  {
   "cell_type": "code",
   "execution_count": 3,
   "id": "9b8f657a",
   "metadata": {},
   "outputs": [],
   "source": [
    "# convert the date column to datetime format\n",
    "df['reviewTime'] = pd.to_datetime(df['reviewTime'])\n",
    "\n",
    "# change the datetime format\n",
    "df['reviewTime'] = df['reviewTime'].dt.strftime('%m-%d-%Y')"
   ]
  },
  {
   "cell_type": "code",
   "execution_count": 4,
   "id": "0bacce9f",
   "metadata": {},
   "outputs": [],
   "source": [
    "# Show a desired data frame operation which you learnt recently."
   ]
  },
  {
   "cell_type": "code",
   "execution_count": 5,
   "id": "9e2d9ce1",
   "metadata": {},
   "outputs": [
    {
     "data": {
      "text/plain": [
       "0       09-04-2015\n",
       "1       09-04-2015\n",
       "2       09-04-2015\n",
       "3       09-04-2015\n",
       "4       09-04-2015\n",
       "           ...    \n",
       "3171    07-02-2018\n",
       "3172    06-28-2018\n",
       "3173    06-25-2018\n",
       "3174    06-20-2018\n",
       "3175    06-16-2018\n",
       "Name: reviewTime, Length: 3176, dtype: object"
      ]
     },
     "execution_count": 5,
     "metadata": {},
     "output_type": "execute_result"
    }
   ],
   "source": [
    "df['reviewTime']"
   ]
  },
  {
   "cell_type": "markdown",
   "id": "7b501855",
   "metadata": {},
   "source": [
    "# Convert the whole file into Parquet file after transforming."
   ]
  },
  {
   "cell_type": "code",
   "execution_count": 6,
   "id": "918ce781",
   "metadata": {},
   "outputs": [],
   "source": [
    "# Convert the whole file into Parquet file after transforming.\n",
    "\n",
    "df.to_parquet(\"Task2.paraquet\")"
   ]
  },
  {
   "cell_type": "markdown",
   "id": "b36ec419",
   "metadata": {},
   "source": [
    "# Connect to Database"
   ]
  },
  {
   "cell_type": "code",
   "execution_count": 7,
   "id": "c12f6ef8",
   "metadata": {},
   "outputs": [],
   "source": [
    "# pip install ipython-sql "
   ]
  },
  {
   "cell_type": "code",
   "execution_count": 8,
   "id": "c2bdfe68",
   "metadata": {},
   "outputs": [],
   "source": [
    "# pip install psycopg2"
   ]
  },
  {
   "cell_type": "code",
   "execution_count": 9,
   "id": "24704867",
   "metadata": {},
   "outputs": [],
   "source": [
    "\"\"\" create tables in the PostgreSQL database\"\"\"\n",
    "\n",
    "commands = (\n",
    "       \n",
    "        \"\"\"\n",
    "        CREATE TABLE amazon_fashion (\n",
    "                overall float,\n",
    "                verified boolean,\n",
    "                reviewTime VARCHAR ,\n",
    "                reviewerID VARCHAR,\n",
    "                asin VARCHAR,\n",
    "                style VARCHAR,\n",
    "                reviewerName VARCHAR,\n",
    "                reviewText VARCHAR,\n",
    "                summary VARCHAR,\n",
    "                unixReviewTime INTEGER,\n",
    "                vote VARCHAR,\n",
    "                image VARCHAR,\n",
    "                review_length INTEGER                    \n",
    "        );\n",
    "        \"\"\")\n",
    "   "
   ]
  },
  {
   "cell_type": "code",
   "execution_count": 10,
   "id": "1b5a36d0",
   "metadata": {},
   "outputs": [
    {
     "name": "stdout",
     "output_type": "stream",
     "text": [
      "Data inserted successfully.\n"
     ]
    }
   ],
   "source": [
    "# connection with postgresql, made to database commit , Insert data and close connection.\n",
    "\n",
    "def execute_values(conn, df, table):\n",
    "    # Convert dictionary columns to JSON strings\n",
    "    \n",
    "    for col in df.select_dtypes(include=['object']).columns:\n",
    "        if isinstance(df[col].iloc[0], dict):\n",
    "            df[col] = df[col].apply(json.dumps)\n",
    "\n",
    "    \n",
    "    tuples = [tuple(row) for row in df.to_numpy()]              # Convert DataFrame to a list of tuples\n",
    "\n",
    "    \n",
    "    cols = ','.join(list(df.columns))                           # Get column names\n",
    "\n",
    "    \n",
    "    query = f\"INSERT INTO {table}({cols}) VALUES %s\"            # SQL query to execute\n",
    "\n",
    "    \n",
    "    cursor = conn.cursor()                                      # Create a cursor\n",
    "\n",
    "    try:\n",
    "        \n",
    "        psycopg2.extras.execute_values(cursor, query, tuples)   # Use execute_values to insert data\n",
    "        \n",
    "        conn.commit()                                           # Commit the transaction\n",
    "        print(\"Data inserted successfully.\")\n",
    "    except (Exception, psycopg2.DatabaseError) as error:\n",
    "        print(f\"Error: {error}\")\n",
    "        \n",
    "        conn.rollback()                                        # Rollback in case of an error\n",
    "    finally:\n",
    "        \n",
    "        cursor.close()                                         # Close the cursor\n",
    "        \n",
    "\n",
    "# Replace these variables with your actual PostgreSQL connection details\n",
    "db_config = {\n",
    "    'host': 'localhost',\n",
    "    'database': 'TensorIot',\n",
    "    'user': 'postgres',\n",
    "    'password': '010101',\n",
    "}\n",
    "\n",
    "\n",
    "table_name = 'amazon_fashion'\n",
    "\n",
    "\n",
    "\n",
    "# Connect to the PostgreSQL database\n",
    "try:\n",
    "    conn = psycopg2.connect(**db_config)\n",
    "    execute_values(conn, df, table_name)\n",
    "except OperationalError as e:\n",
    "    print(f\"Error connecting to the database: {e}\")\n",
    "finally:\n",
    "    # Close the connection outside the try-except block\n",
    "    if conn is not None:\n",
    "        conn.close()\n"
   ]
  },
  {
   "cell_type": "code",
   "execution_count": 11,
   "id": "a956c759",
   "metadata": {},
   "outputs": [
    {
     "name": "stdout",
     "output_type": "stream",
     "text": [
      "[(5.0, True, '09-04-2015', 'ALJ66O1Y6SLHA', 'B000K2PJ4K', '{\"Size:\": \" Big Boys\", \"Color:\": \" Blue/Orange\"}', 'Tonya B.', 'Great product and price!', 'Five Stars', 1441324800, 'NaN', 'NaN', 24), (5.0, True, '09-04-2015', 'ALJ66O1Y6SLHA', 'B000K2PJ4K', '{\"Size:\": \" Big Boys\", \"Color:\": \" Black (37467610) / Red/White\"}', 'Tonya B.', 'Great product and price!', 'Five Stars', 1441324800, 'NaN', 'NaN', 24), (5.0, True, '09-04-2015', 'ALJ66O1Y6SLHA', 'B000K2PJ4K', '{\"Size:\": \" Big Boys\", \"Color:\": \" Blue/Gray Logo\"}', 'Tonya B.', 'Great product and price!', 'Five Stars', 1441324800, 'NaN', 'NaN', 24), (5.0, True, '09-04-2015', 'ALJ66O1Y6SLHA', 'B000K2PJ4K', '{\"Size:\": \" Big Boys\", \"Color:\": \" Blue (37867638-99) / Yellow\"}', 'Tonya B.', 'Great product and price!', 'Five Stars', 1441324800, 'NaN', 'NaN', 24), (5.0, True, '09-04-2015', 'ALJ66O1Y6SLHA', 'B000K2PJ4K', '{\"Size:\": \" Big Boys\", \"Color:\": \" Blue/Pink\"}', 'Tonya B.', 'Great product and price!', 'Five Stars', 1441324800, 'NaN', 'NaN', 24)]\n"
     ]
    }
   ],
   "source": [
    "db_config = {\n",
    "    'host': 'localhost',\n",
    "    'database': 'TensorIot',\n",
    "    'user': 'postgres',\n",
    "    'password': '010101',\n",
    "}\n",
    "\n",
    "query = f\"SELECT * FROM amazon_fashion limit 5;\"            # SQL query to execute\n",
    "conn = psycopg2.connect(**db_config)\n",
    "\n",
    "cursor = conn.cursor()                                      # Create a cursor\n",
    "\n",
    "try:\n",
    "\n",
    "    cursor.execute(query)   # Use execute_values to insert data\n",
    "\n",
    "    conn.commit()                                           # Commit the transaction\n",
    "    print(cursor.fetchall())\n",
    "except (Exception, psycopg2.DatabaseError) as error:\n",
    "    print(f\"Error: {error}\")\n",
    "\n",
    "    conn.rollback()                                        # Rollback in case of an error\n",
    "finally:\n",
    "\n",
    "    cursor.close()                                         # Close the cursor\n"
   ]
  },
  {
   "cell_type": "code",
   "execution_count": null,
   "id": "a7a13652",
   "metadata": {},
   "outputs": [],
   "source": []
  }
 ],
 "metadata": {
  "kernelspec": {
   "display_name": "Python [conda env:dsml_22_env]",
   "language": "python",
   "name": "conda-env-dsml_22_env-py"
  },
  "language_info": {
   "codemirror_mode": {
    "name": "ipython",
    "version": 3
   },
   "file_extension": ".py",
   "mimetype": "text/x-python",
   "name": "python",
   "nbconvert_exporter": "python",
   "pygments_lexer": "ipython3",
   "version": "3.9.0"
  }
 },
 "nbformat": 4,
 "nbformat_minor": 5
}
