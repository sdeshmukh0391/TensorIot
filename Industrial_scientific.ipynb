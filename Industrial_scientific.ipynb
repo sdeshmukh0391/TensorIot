{
 "cells": [
  {
   "cell_type": "code",
   "execution_count": 1,
   "id": "57af0217",
   "metadata": {},
   "outputs": [],
   "source": [
    "import pandas as pd\n",
    "from pyspark.sql import SparkSession\n",
    "from pyspark.sql.functions import col, length, min, max\n",
    "import gzip\n",
    "import json"
   ]
  },
  {
   "cell_type": "code",
   "execution_count": 2,
   "id": "1ee09369",
   "metadata": {},
   "outputs": [],
   "source": [
    "def parse(path):\n",
    "    g = gzip.open(path, 'rb')\n",
    "    for l in g:\n",
    "        yield json.loads(l)\n",
    "\n",
    "def getDF(path):\n",
    "    i = 0\n",
    "    df = {}  # Corrected variable name from df to df\n",
    "    for d in parse(path):\n",
    "        df[i] = d\n",
    "        i += 1\n",
    "    return pd.DataFrame.from_dict(df, orient='index')\n",
    "\n",
    "path = \"../TensorIot/Industrial_and_Scientific.json.gz\"  # Replace with the actual path to your JSON.gz file\n",
    "df = getDF(path)"
   ]
  },
  {
   "cell_type": "code",
   "execution_count": 3,
   "id": "d0adfb33",
   "metadata": {},
   "outputs": [],
   "source": [
    "# df.head()"
   ]
  },
  {
   "cell_type": "code",
   "execution_count": 4,
   "id": "5ef1d8e1",
   "metadata": {},
   "outputs": [
    {
     "data": {
      "text/plain": [
       "(1758333, 12)"
      ]
     },
     "execution_count": 4,
     "metadata": {},
     "output_type": "execute_result"
    }
   ],
   "source": [
    "df.shape"
   ]
  },
  {
   "cell_type": "code",
   "execution_count": 5,
   "id": "1cb46f94",
   "metadata": {},
   "outputs": [],
   "source": [
    "# overall is the column representing the ratings\n",
    "\n",
    "least_rated_item = df.nsmallest(1, 'overall').iloc[0]"
   ]
  },
  {
   "cell_type": "code",
   "execution_count": 6,
   "id": "96fc2a1c",
   "metadata": {},
   "outputs": [],
   "source": [
    "most_rated_item = df.iloc[df['overall'].idxmax()]"
   ]
  },
  {
   "cell_type": "code",
   "execution_count": 7,
   "id": "533ceed5",
   "metadata": {},
   "outputs": [],
   "source": [
    "# Assuming 'reviewText' is the column representing the reviews\n",
    "\n",
    "df['review_length'] = df['reviewText'].apply(lambda x: len(str(x)) if pd.notna(x) else 0)\n",
    "\n",
    "item_with_longest_review = df.iloc[df['review_length'].idxmax()] # Find the item with the longest review"
   ]
  },
  {
   "cell_type": "code",
   "execution_count": 8,
   "id": "a0d6e897",
   "metadata": {},
   "outputs": [],
   "source": [
    "# convert the date column to datetime format\n",
    "df['reviewTime'] = pd.to_datetime(df['reviewTime'])\n",
    "\n",
    "df['reviewTime'] = df['reviewTime'].dt.strftime('%m-%d-%Y') # change the datetime format"
   ]
  },
  {
   "cell_type": "code",
   "execution_count": 9,
   "id": "3bf82985",
   "metadata": {},
   "outputs": [],
   "source": [
    "# Show a desired data frame operation which you learnt recently.\n"
   ]
  },
  {
   "cell_type": "code",
   "execution_count": 11,
   "id": "a2533116",
   "metadata": {},
   "outputs": [
    {
     "name": "stdout",
     "output_type": "stream",
     "text": [
      "overall                                                         1.0\n",
      "verified                                                       True\n",
      "reviewTime                                              03 21, 2017\n",
      "reviewerID                                           A1GJXZZPOZ3OD9\n",
      "asin                                                     0176496920\n",
      "reviewerName                                        Amazon Customer\n",
      "reviewText        It only lasted for 3 days before it stopped wo...\n",
      "summary                                                    One Star\n",
      "unixReviewTime                                           1490054400\n",
      "vote                                                            NaN\n",
      "style                                                           NaN\n",
      "image                                                           NaN\n",
      "Name: 4, dtype: object\n"
     ]
    }
   ],
   "source": [
    "print(least_rated_item)"
   ]
  },
  {
   "cell_type": "code",
   "execution_count": 12,
   "id": "44c76889",
   "metadata": {},
   "outputs": [
    {
     "name": "stdout",
     "output_type": "stream",
     "text": [
      "overall                                                         5.0\n",
      "verified                                                       True\n",
      "reviewTime                                              01 23, 2013\n",
      "reviewerID                                           A3FANY5GOT5X0W\n",
      "asin                                                     0176496920\n",
      "reviewerName                                           Kelly Keyser\n",
      "reviewText        Arrived on time, in mint condition, great!  I ...\n",
      "summary                                          Just as described!\n",
      "unixReviewTime                                           1358899200\n",
      "vote                                                            NaN\n",
      "style                                                           NaN\n",
      "image                                                           NaN\n",
      "Name: 0, dtype: object\n"
     ]
    }
   ],
   "source": [
    "print(most_rated_item) "
   ]
  },
  {
   "cell_type": "code",
   "execution_count": 13,
   "id": "af121620",
   "metadata": {},
   "outputs": [
    {
     "name": "stdout",
     "output_type": "stream",
     "text": [
      "Item with the longest review:\n",
      "asin                                                    B0015NV5BE\n",
      "review_length                                                32184\n",
      "reviewText       FOR OPERATING A REFRIGERATOR (or freezer ) ONL...\n",
      "Name: 236852, dtype: object\n"
     ]
    }
   ],
   "source": [
    "print(\"Item with the longest review:\")\n",
    "print(item_with_longest_review[['asin', 'review_length', 'reviewText']])"
   ]
  },
  {
   "cell_type": "code",
   "execution_count": 14,
   "id": "f1ea72f0",
   "metadata": {},
   "outputs": [
    {
     "data": {
      "text/plain": [
       "0          01-23-2013\n",
       "1          11-05-2012\n",
       "2          10-17-2012\n",
       "3          03-29-2017\n",
       "4          03-21-2017\n",
       "              ...    \n",
       "1758328    08-04-2018\n",
       "1758329    07-10-2018\n",
       "1758330    01-14-2017\n",
       "1758331    07-20-2018\n",
       "1758332    03-09-2018\n",
       "Name: reviewTime, Length: 1758333, dtype: object"
      ]
     },
     "execution_count": 14,
     "metadata": {},
     "output_type": "execute_result"
    }
   ],
   "source": [
    "df['reviewTime']"
   ]
  },
  {
   "cell_type": "code",
   "execution_count": 15,
   "id": "58e7c0ef",
   "metadata": {},
   "outputs": [],
   "source": [
    "# Convert the whole file into Parquet file after transforming.\n",
    "\n",
    "df.to_parquet(\"Industry_output.paraquet\")"
   ]
  },
  {
   "cell_type": "code",
   "execution_count": null,
   "id": "39bf81c1",
   "metadata": {},
   "outputs": [],
   "source": []
  }
 ],
 "metadata": {
  "kernelspec": {
   "display_name": "Python [conda env:dsml_22_env]",
   "language": "python",
   "name": "conda-env-dsml_22_env-py"
  },
  "language_info": {
   "codemirror_mode": {
    "name": "ipython",
    "version": 3
   },
   "file_extension": ".py",
   "mimetype": "text/x-python",
   "name": "python",
   "nbconvert_exporter": "python",
   "pygments_lexer": "ipython3",
   "version": "3.9.0"
  }
 },
 "nbformat": 4,
 "nbformat_minor": 5
}
